{
 "cells": [
  {
   "cell_type": "markdown",
   "metadata": {},
   "source": [
    "# Import Dependancies\n",
    "Requires: pandas, numpy, matplotlib, seaborn, statsmodels"
   ]
  },
  {
   "cell_type": "code",
   "execution_count": null,
   "metadata": {},
   "outputs": [],
   "source": [
    "import pandas as pd\n",
    "import numpy as np\n",
    "import matplotlib.pyplot as plt\n",
    "import seaborn as sns\n",
    "import statsmodels.api as sm\n",
    "import statsmodels.formula.api as smf\n"
   ]
  },
  {
   "cell_type": "markdown",
   "metadata": {},
   "source": [
    "# Import Data using Pandas\n",
    "\n",
    "File format is csv"
   ]
  },
  {
   "cell_type": "code",
   "execution_count": null,
   "metadata": {},
   "outputs": [],
   "source": [
    "raw_df = pd.read_csv(\"https://opendata.arcgis.com/datasets/70392a096a8e431381f1f692aaa06afd_24.csv\")"
   ]
  },
  {
   "cell_type": "code",
   "execution_count": null,
   "metadata": {},
   "outputs": [],
   "source": [
    "print(raw_df.dtypes)\n",
    "raw_df.head()"
   ]
  },
  {
   "cell_type": "code",
   "execution_count": null,
   "metadata": {},
   "outputs": [],
   "source": [
    "raw_df.WARD = raw_df.WARD.astype('category')\n",
    "raw_df.REPORTDATE = raw_df.REPORTDATE.astype('datetime64')"
   ]
  },
  {
   "cell_type": "markdown",
   "metadata": {},
   "source": [
    "## Filter data for graphing by date"
   ]
  },
  {
   "cell_type": "code",
   "execution_count": null,
   "metadata": {},
   "outputs": [],
   "source": [
    "year_range = [2010, 2018]\n",
    "filter_df = raw_df[list(map(lambda x: (x.year>=year_range[0]) & (x.year<=year_range[1]), raw_df.REPORTDATE))]"
   ]
  },
  {
   "cell_type": "code",
   "execution_count": null,
   "metadata": {},
   "outputs": [],
   "source": [
    "raw_df.plot(x='X', y='Y', kind='scatter', figsize=(10, 10));"
   ]
  },
  {
   "cell_type": "code",
   "execution_count": null,
   "metadata": {},
   "outputs": [],
   "source": [
    "if year_range[0]==year_range[1]:\n",
    "    chart_title = 'Car Crashes in DC during ' + str(year_range[0])\n",
    "else:\n",
    "    chart_title = 'Car Crashes in DC from {} to {}'.format(year_range[0], year_range[1])\n",
    "\n",
    "fig = plt.figure(figsize=(16, 16))\n",
    "sns.scatterplot(filter_df['X'], filter_df['Y'], hue=filter_df['WARD'], markers='.', alpha=0.3).set_title(chart_title, size=20);\n",
    "\n",
    "#fig.savefig(\"crashes_by_ward.png\")\n"
   ]
  },
  {
   "cell_type": "code",
   "execution_count": null,
   "metadata": {},
   "outputs": [],
   "source": [
    "# fatal car crashes\n",
    "\n",
    "fatal_crashes = filter_df[filter_df.FATAL_BICYCLIST + filter_df.FATAL_DRIVER + filter_df.FATAL_PEDESTRIAN > 0]\n",
    "\n",
    "fatal_crashes\n",
    "\n",
    "if year_range[0]==year_range[1]:\n",
    "    chart_title = 'Fatal Car Crashes in DC during ' + str(year_range[0])\n",
    "else:\n",
    "    chart_title = 'Fatal Car Crashes in DC from {} to {}'.format(year_range[0], year_range[1])\n",
    "\n",
    "fig = plt.figure(figsize=(16, 16))\n",
    "\n",
    "sns.scatterplot(raw_df['X'], raw_df['Y'])\n",
    "\n",
    "\n",
    "sns.scatterplot(fatal_crashes['X'], fatal_crashes['Y'], markers=\"X\", color='red', legend='full').set_title(chart_title, size=20);\n",
    "\n"
   ]
  },
  {
   "cell_type": "code",
   "execution_count": null,
   "metadata": {},
   "outputs": [],
   "source": []
  }
 ],
 "metadata": {
  "kernelspec": {
   "display_name": "Python 3",
   "language": "python",
   "name": "python3"
  },
  "language_info": {
   "codemirror_mode": {
    "name": "ipython",
    "version": 3
   },
   "file_extension": ".py",
   "mimetype": "text/x-python",
   "name": "python",
   "nbconvert_exporter": "python",
   "pygments_lexer": "ipython3",
   "version": "3.6.6"
  },
  "toc": {
   "base_numbering": 1,
   "nav_menu": {},
   "number_sections": true,
   "sideBar": true,
   "skip_h1_title": false,
   "title_cell": "Table of Contents",
   "title_sidebar": "Contents",
   "toc_cell": false,
   "toc_position": {},
   "toc_section_display": true,
   "toc_window_display": true
  },
  "varInspector": {
   "cols": {
    "lenName": 16,
    "lenType": 16,
    "lenVar": 40
   },
   "kernels_config": {
    "python": {
     "delete_cmd_postfix": "",
     "delete_cmd_prefix": "del ",
     "library": "var_list.py",
     "varRefreshCmd": "print(var_dic_list())"
    },
    "r": {
     "delete_cmd_postfix": ") ",
     "delete_cmd_prefix": "rm(",
     "library": "var_list.r",
     "varRefreshCmd": "cat(var_dic_list()) "
    }
   },
   "types_to_exclude": [
    "module",
    "function",
    "builtin_function_or_method",
    "instance",
    "_Feature"
   ],
   "window_display": false
  }
 },
 "nbformat": 4,
 "nbformat_minor": 2
}
